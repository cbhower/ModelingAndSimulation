{
 "cells": [
  {
   "cell_type": "markdown",
   "metadata": {},
   "source": [
    "# SYSC 535: FINAL  PROJECT\n",
    "## Agent Based Simulation of Bottleneck Free Traffic Jam \n",
    "### Christian Hower\n",
    "### Spring 2019\n",
    "\n"
   ]
  },
  {
   "cell_type": "markdown",
   "metadata": {},
   "source": [
    "Traffic has a major impact on the quality of people’s lives. It is always frustrating to be stuck in stop and go traffic but it is especially frustrating when there is seemingly no need for the traffic. The phenomenon of stop and go traffic that occurs when there is sufficient roadway to handle the volume of cars at a given time is called bottleneck free traffic. This has been studied experimentally via placing actuals drivers on a circular track. It has been shown that simple fluctuations in accelerating and braking can be sufficient to cause the wave behavior observed in real traffic conditions.\n",
    "\n",
    "This project recreates the dynamics of bottleneck free traffic using an agent-based simulation. The agents move in a loop and the next position of the agent is evaluated locally. Each agent tries to move at some constant speed in order to prevent traffic build up on the track. There are (2) behaviors that model different driving assumptions: 'Constant', which models a perfect driver that always moves the target distance at each time interval that the all agents are trying to move. This type of agent could be a good model for autonomous vehicles. 'Constant random' is the second behavior which models imperfect distances travelled at each time interval via sampling from a gaussian distribution. When the mix argument is set to False, all agents are Human agents. When the mix argument is set to True, the population is approximately 50/50 humans and autonomous vehicles.\n"
   ]
  },
  {
   "cell_type": "code",
   "execution_count": 35,
   "metadata": {
    "collapsed": true
   },
   "outputs": [],
   "source": [
    "import numpy as np\n",
    "import pandas as pd"
   ]
  },
  {
   "cell_type": "code",
   "execution_count": 36,
   "metadata": {
    "collapsed": true
   },
   "outputs": [],
   "source": [
    "class agent():\n",
    "    def __init__(self):\n",
    "        self.type = np.random.randint(0,2)\n",
    "        self.rear_neighbor_position = None\n",
    "        self.front_neighbor_position = None\n",
    "        self.target = None"
   ]
  },
  {
   "cell_type": "code",
   "execution_count": 37,
   "metadata": {
    "collapsed": true
   },
   "outputs": [],
   "source": [
    "class traffic_sim:\n",
    "# Intitialization functions\n",
    "    def __init__(self, n_agents, resolution = 6, mix = False):\n",
    "        self.n_spaces = n_agents * resolution # car lengths\n",
    "        self.resolution = resolution\n",
    "        self.n_agents = n_agents # number of cars on the track\n",
    "        self.agents = []\n",
    "        self.iterations = 0\n",
    "        self.behavior = mix\n",
    "        hist_columns = ['iteration','env']   \n",
    "        self.history = pd.DataFrame(columns = [hist_columns])\n",
    "     \n",
    "        self.__populate__()\n",
    "        self.__observe_positions__()\n",
    "        \n",
    "    def __populate__(self):\n",
    "        initial_positions = np.arange(0,self.n_spaces, self.resolution)       \n",
    "        c = self.n_agents - 1\n",
    "        \n",
    "        for i in range(self.n_agents):\n",
    "            ag = agent()\n",
    "            ag.position = initial_positions[i]\n",
    "            ag.rear_neighbor_position = initial_positions[i-1]\n",
    "            ag.front_neighbor_position= initial_positions[i-c]\n",
    "            ag.id = i + 1\n",
    "            if self.behavior == True:\n",
    "                ag.type = np.random.randint(0,2)\n",
    "            else:\n",
    "                ag.type = 0\n",
    "            self.agents.append(ag)\n",
    "            \n",
    "            \n",
    "# Update functions\n",
    "    def __update_positions__(self):\n",
    "        for ag in self.agents:\n",
    "            if ag.type == 1:                \n",
    "                self.__constant__(ag)\n",
    "            else:                \n",
    "                self.__constant_target__(ag)\n",
    "            \n",
    "        self.__observe_positions__()\n",
    "\n",
    "\n",
    "    def __constant__(self, ag): \n",
    "        ag.position += self.n_agents\n",
    "        if ag.position > self.n_spaces - 1:\n",
    "            ag.position = ag.position - self.n_spaces\n",
    " \n",
    "        \n",
    "    def __constant_target__(self, ag):       \n",
    "        target = ag.position + self.n_agents\n",
    "        if target > self.n_spaces - 1:\n",
    "            target = target - self.n_spaces\n",
    "        \n",
    "        ag.position = np.random.normal(target,1)//1\n",
    "        if ag.position > self.n_spaces - 1:\n",
    "            ag.position = ag.position - self.n_spaces\n",
    "                \n",
    "# Observation functions\n",
    "        \n",
    "    def __observe_positions__(self):\n",
    "        self.__get_neighbor_positions__()\n",
    "        env = self.__get_env__()\n",
    "        self.history = self.history.append({'iteration': self.iterations ,\n",
    "                                            'env': env}, ignore_index=True)\n",
    "        \n",
    "        self.iterations += 1 \n",
    "\n",
    "        \n",
    "    def __get_neighbor_positions__(self):\n",
    "        curr_positions = []\n",
    "        c = int(self.n_agents - 1)\n",
    "        \n",
    "        for ag in self.agents:\n",
    "            curr_positions.append(ag.position)\n",
    "        curr_positions = np.asarray(curr_positions)\n",
    "        \n",
    "        for i in range(self.n_agents):\n",
    "            self.agents[i].rear_neighbor_position = curr_positions[i-1]\n",
    "            self.agents[i].front_neighbor_position = curr_positions[i-c]\n",
    "        \n",
    "        \n",
    "    def __get_env__(self):\n",
    "        env = np.zeros(self.n_spaces, dtype = int)\n",
    "        curr_positions = []\n",
    "        \n",
    "        for ag in self.agents:\n",
    "            curr_positions.append((ag.position, ag.id))\n",
    "\n",
    "\n",
    "        for pos in curr_positions:\n",
    "            a , b = pos\n",
    "            env[int(a)] = b\n",
    "        \n",
    "        return env\n",
    "\n",
    "# Run simulation functions    \n",
    "    def run_sim(self, sims):        \n",
    "        for sim in range(sims):\n",
    "            \n",
    "            self.__update_positions__()\n",
    "\n",
    "            for ag in self.agents:\n",
    "                if ag.position == ag.front_neighbor_position:\n",
    "                    return self.iterations\n",
    "           \n",
    "            if sim == sims - 1:\n",
    "                return self.history               \n",
    "\n",
    "    def view_sim(self):\n",
    "        for sim in range(len(self.history)):\n",
    "            print(self.history['env'][sim])\n",
    "\n",
    "# Helper functions\n",
    "    def print_attr(self):\n",
    "        for ag in self.agents:\n",
    "            print('id:', ag.id, 'position:', ag.position, 'rear neighbor', ag.rear_neighbor_position,\n",
    "                  'front neighbor', ag.front_neighbor_position, 'target', ag.target)"
   ]
  },
  {
   "cell_type": "markdown",
   "metadata": {},
   "source": [
    "### Humans Only"
   ]
  },
  {
   "cell_type": "code",
   "execution_count": 41,
   "metadata": {},
   "outputs": [
    {
     "name": "stdout",
     "output_type": "stream",
     "text": [
      "[1 0 0 0 0 0 2 0 0 0 0 0 3 0 0 0 0 0 4 0 0 0 0 0 5 0 0 0 0 0 6 0 0 0 0 0]\n",
      "[0 0 0 0 0 0 1 0 0 0 0 0 0 0 2 0 3 0 0 0 0 0 0 0 4 0 0 0 0 5 0 0 0 0 0 6]\n",
      "[0 0 0 0 0 6 0 0 0 0 0 0 1 0 0 0 0 0 0 2 0 0 3 0 0 0 0 0 0 4 0 0 0 5 0 0]\n",
      "[0 0 5 0 0 0 0 0 0 0 0 6 0 0 0 0 0 1 0 0 0 0 0 0 0 0 2 0 3 0 0 0 0 0 0 4]\n",
      "[0 0 0 4 0 0 0 0 5 0 0 0 0 0 0 0 0 6 0 0 0 0 0 1 0 0 0 0 0 0 0 2 0 3 0 0]\n",
      "[0 2 0 3 0 0 0 0 4 0 0 0 0 0 0 0 5 0 0 0 0 0 6 0 0 0 0 0 0 0 1 0 0 0 0 0]\n",
      "[0 0 0 0 0 0 2 0 0 3 0 0 0 0 4 0 0 0 0 0 0 5 0 0 0 0 0 0 0 6 0 0 0 0 0 1]\n",
      "[0 0 0 0 0 0 1 0 0 0 0 0 0 2 3 0 0 0 0 0 0 4 0 0 0 5 0 0 0 0 0 0 0 0 0 6]\n",
      "[0 0 0 0 6 0 0 0 0 0 1 0 0 0 0 0 0 0 0 0 3 0 0 0 0 0 4 0 0 0 0 5 0 0 0 0]\n"
     ]
    }
   ],
   "source": [
    "ts = traffic_sim(6, mix = False)\n",
    "ts.run_sim(100)\n",
    "ts.view_sim()"
   ]
  },
  {
   "cell_type": "markdown",
   "metadata": {},
   "source": [
    "#### Humans Only, No robots allowed\n",
    "Congestion and pile ups can be seen in with the constant target behavior that characterizes human drivers. Although the agents start uniformly distributed on the track, traffic conditions appear after only a few time steps. A key feature of traffic jams is the oscillating pattern that looks something like peristalsis. This is difficult to quantify but qualitatively, there does seem to be some similarity in the results of the simulation. Congestion builds up and often persists for multiple time steps. "
   ]
  },
  {
   "cell_type": "markdown",
   "metadata": {},
   "source": [
    "### Humans and Autonomous Vehicles "
   ]
  },
  {
   "cell_type": "code",
   "execution_count": 47,
   "metadata": {},
   "outputs": [
    {
     "name": "stdout",
     "output_type": "stream",
     "text": [
      "[1 0 0 0 0 0 2 0 0 0 0 0 3 0 0 0 0 0 4 0 0 0 0 0 5 0 0 0 0 0 6 0 0 0 0 0]\n",
      "[0 0 0 0 0 0 1 0 0 0 0 0 2 0 0 0 0 0 3 0 0 0 0 0 4 0 0 0 0 0 5 0 0 0 0 6]\n",
      "[5 0 0 0 0 6 0 0 0 0 0 0 1 0 0 0 0 2 0 0 0 0 0 0 3 0 0 0 0 0 4 0 0 0 0 0]\n",
      "[4 0 0 0 0 0 5 0 0 0 0 6 0 0 0 0 0 0 1 0 0 0 0 2 0 0 0 0 0 0 3 0 0 0 0 0]\n",
      "[3 0 0 0 0 0 4 0 0 0 0 0 5 0 0 0 0 0 6 0 0 0 0 0 1 0 0 0 0 2 0 0 0 0 0 0]\n",
      "[2 0 0 0 0 0 3 0 0 0 0 4 0 0 0 0 0 0 5 0 0 0 0 0 6 0 0 0 0 0 1 0 0 0 0 0]\n",
      "[1 0 0 0 0 0 2 0 0 0 0 0 3 0 0 0 0 0 0 4 0 0 0 0 5 0 0 0 0 6 0 0 0 0 0 0]\n",
      "[0 0 0 0 0 0 1 0 0 0 0 2 0 0 0 0 0 0 3 0 0 0 0 0 0 4 0 0 0 0 5 0 0 0 0 6]\n",
      "[5 0 0 0 6 0 0 0 0 0 0 0 1 0 0 0 0 2 0 0 0 0 0 0 3 0 0 0 4 0 0 0 0 0 0 0]\n",
      "[0 0 0 0 0 0 5 0 0 6 0 0 0 0 0 0 0 0 1 2 0 0 0 0 0 0 0 0 0 0 3 0 4 0 0 0]\n",
      "[3 0 0 4 0 0 0 0 0 0 0 0 5 0 0 0 6 0 0 0 0 0 0 0 1 0 2 0 0 0 0 0 0 0 0 0]\n",
      "[0 0 0 0 0 0 3 0 4 0 0 0 0 0 0 0 0 0 5 0 6 0 0 0 0 0 0 0 0 0 1 2 0 0 0 0]\n",
      "[1 0 0 0 0 0 0 0 0 0 0 0 3 4 0 0 0 0 0 0 0 0 0 0 5 0 6 0 0 0 0 0 0 0 0 2]\n",
      "[0 0 0 2 0 0 1 0 0 0 0 0 0 0 0 0 0 0 4 0 0 0 0 0 0 0 0 0 0 6 5 0 0 0 0 0]\n"
     ]
    }
   ],
   "source": [
    "ts = traffic_sim(6 , mix = True)\n",
    "ts.run_sim(100)\n",
    "ts.view_sim()"
   ]
  },
  {
   "cell_type": "markdown",
   "metadata": {},
   "source": [
    "#### Humans and Autonomous Vehicles\n",
    "When the mix argument is set to true, about half the population of agents will always meet their target position in the next time step. The goal here is to see if having some number of perfect agents will prevent the buildup of traffic. Although human drivers that make errors that build up over time, it is possible that some number of perfect agents will prevent the system from going into some critical state that leads to traffic that cannot be recovered from.\n"
   ]
  },
  {
   "cell_type": "markdown",
   "metadata": {},
   "source": [
    "#### Future Work/ To Do\n",
    "While this simulation does capture some of the mechanics of the real system, it does so in a fairly abstract way and in a way that is hard to quantity. I had considered using some measure of squared distance between neighbors to calculate aggregate level of traffic for each time step but this turned out to be difficult to implement. With more time, I would like to devise a metric for the overall traffic amount and find a way to better visualize the simulation for easier qualitative assessment.\n",
    "\n"
   ]
  }
 ],
 "metadata": {
  "kernelspec": {
   "display_name": "Python 3",
   "language": "python",
   "name": "python3"
  },
  "language_info": {
   "codemirror_mode": {
    "name": "ipython",
    "version": 3
   },
   "file_extension": ".py",
   "mimetype": "text/x-python",
   "name": "python",
   "nbconvert_exporter": "python",
   "pygments_lexer": "ipython3",
   "version": "3.6.2"
  }
 },
 "nbformat": 4,
 "nbformat_minor": 2
}
